{
  "nbformat": 4,
  "nbformat_minor": 0,
  "metadata": {
    "colab": {
      "name": "Stocks.ipynb",
      "provenance": [],
      "collapsed_sections": [],
      "include_colab_link": true
    },
    "kernelspec": {
      "name": "python3",
      "display_name": "Python 3"
    }
  },
  "cells": [
    {
      "cell_type": "markdown",
      "metadata": {
        "id": "view-in-github",
        "colab_type": "text"
      },
      "source": [
        "<a href=\"https://colab.research.google.com/github/mads5/Experiments/blob/master/Stocks.ipynb\" target=\"_parent\"><img src=\"https://colab.research.google.com/assets/colab-badge.svg\" alt=\"Open In Colab\"/></a>"
      ]
    },
    {
      "cell_type": "code",
      "metadata": {
        "id": "BvMS84dsPU_d",
        "colab_type": "code",
        "outputId": "8df537fd-4403-438b-e537-1f7cea11e7b4",
        "colab": {
          "base_uri": "https://localhost:8080/",
          "height": 36
        }
      },
      "source": [
        "import pandas_datareader as web\n",
        "import math\n",
        "import numpy as np\n",
        "import pandas as pd\n",
        "from sklearn.preprocessing import MinMaxScaler\n",
        "from keras.models import Sequential\n",
        "from keras.layers import Dense, LSTM\n",
        "import matplotlib.pyplot as plt\n",
        "from datetime import date\n",
        "plt.style.use('fivethirtyeight')\n",
        "days = 60\n",
        "stock = 'ADANIPORTS.NS'\n",
        "end = date.today()\n",
        "start = '1993-01-01'\n",
        "data_source='yahoo'\n",
        "print(end)"
      ],
      "execution_count": 142,
      "outputs": [
        {
          "output_type": "stream",
          "text": [
            "2020-05-05\n"
          ],
          "name": "stdout"
        }
      ]
    },
    {
      "cell_type": "code",
      "metadata": {
        "id": "P3SC2kIYTj3B",
        "colab_type": "code",
        "outputId": "1d737bea-1ec2-4bd4-c266-7869c186150d",
        "colab": {
          "base_uri": "https://localhost:8080/",
          "height": 455
        }
      },
      "source": [
        "#Get the stock data\n",
        "df = web.DataReader(stock, data_source, start, end)\n",
        "#Show the data\n",
        "df"
      ],
      "execution_count": 143,
      "outputs": [
        {
          "output_type": "execute_result",
          "data": {
            "text/html": [
              "<div>\n",
              "<style scoped>\n",
              "    .dataframe tbody tr th:only-of-type {\n",
              "        vertical-align: middle;\n",
              "    }\n",
              "\n",
              "    .dataframe tbody tr th {\n",
              "        vertical-align: top;\n",
              "    }\n",
              "\n",
              "    .dataframe thead th {\n",
              "        text-align: right;\n",
              "    }\n",
              "</style>\n",
              "<table border=\"1\" class=\"dataframe\">\n",
              "  <thead>\n",
              "    <tr style=\"text-align: right;\">\n",
              "      <th></th>\n",
              "      <th>High</th>\n",
              "      <th>Low</th>\n",
              "      <th>Open</th>\n",
              "      <th>Close</th>\n",
              "      <th>Volume</th>\n",
              "      <th>Adj Close</th>\n",
              "    </tr>\n",
              "    <tr>\n",
              "      <th>Date</th>\n",
              "      <th></th>\n",
              "      <th></th>\n",
              "      <th></th>\n",
              "      <th></th>\n",
              "      <th></th>\n",
              "      <th></th>\n",
              "    </tr>\n",
              "  </thead>\n",
              "  <tbody>\n",
              "    <tr>\n",
              "      <th>2007-11-27</th>\n",
              "      <td>207.000000</td>\n",
              "      <td>154.000000</td>\n",
              "      <td>154.000000</td>\n",
              "      <td>191.800003</td>\n",
              "      <td>27262366.0</td>\n",
              "      <td>167.638992</td>\n",
              "    </tr>\n",
              "    <tr>\n",
              "      <th>2007-11-28</th>\n",
              "      <td>197.800003</td>\n",
              "      <td>174.929993</td>\n",
              "      <td>194.000000</td>\n",
              "      <td>177.000000</td>\n",
              "      <td>21958915.0</td>\n",
              "      <td>154.703354</td>\n",
              "    </tr>\n",
              "    <tr>\n",
              "      <th>2007-11-29</th>\n",
              "      <td>182.800003</td>\n",
              "      <td>168.460007</td>\n",
              "      <td>181.000000</td>\n",
              "      <td>177.399994</td>\n",
              "      <td>25616715.0</td>\n",
              "      <td>155.052948</td>\n",
              "    </tr>\n",
              "    <tr>\n",
              "      <th>2007-11-30</th>\n",
              "      <td>191.399994</td>\n",
              "      <td>178.000000</td>\n",
              "      <td>178.000000</td>\n",
              "      <td>185.800003</td>\n",
              "      <td>23047035.0</td>\n",
              "      <td>162.394852</td>\n",
              "    </tr>\n",
              "    <tr>\n",
              "      <th>2007-12-03</th>\n",
              "      <td>198.860001</td>\n",
              "      <td>184.399994</td>\n",
              "      <td>187.949997</td>\n",
              "      <td>196.000000</td>\n",
              "      <td>14578850.0</td>\n",
              "      <td>171.309952</td>\n",
              "    </tr>\n",
              "    <tr>\n",
              "      <th>...</th>\n",
              "      <td>...</td>\n",
              "      <td>...</td>\n",
              "      <td>...</td>\n",
              "      <td>...</td>\n",
              "      <td>...</td>\n",
              "      <td>...</td>\n",
              "    </tr>\n",
              "    <tr>\n",
              "      <th>2020-04-28</th>\n",
              "      <td>274.700012</td>\n",
              "      <td>270.000000</td>\n",
              "      <td>271.149994</td>\n",
              "      <td>272.950012</td>\n",
              "      <td>1808291.0</td>\n",
              "      <td>272.950012</td>\n",
              "    </tr>\n",
              "    <tr>\n",
              "      <th>2020-04-29</th>\n",
              "      <td>293.200012</td>\n",
              "      <td>272.700012</td>\n",
              "      <td>274.000000</td>\n",
              "      <td>287.649994</td>\n",
              "      <td>4058322.0</td>\n",
              "      <td>287.649994</td>\n",
              "    </tr>\n",
              "    <tr>\n",
              "      <th>2020-04-30</th>\n",
              "      <td>296.000000</td>\n",
              "      <td>285.100006</td>\n",
              "      <td>295.049988</td>\n",
              "      <td>290.100006</td>\n",
              "      <td>4675412.0</td>\n",
              "      <td>290.100006</td>\n",
              "    </tr>\n",
              "    <tr>\n",
              "      <th>2020-05-04</th>\n",
              "      <td>280.000000</td>\n",
              "      <td>262.000000</td>\n",
              "      <td>275.000000</td>\n",
              "      <td>266.350006</td>\n",
              "      <td>6359013.0</td>\n",
              "      <td>266.350006</td>\n",
              "    </tr>\n",
              "    <tr>\n",
              "      <th>2020-05-05</th>\n",
              "      <td>271.700012</td>\n",
              "      <td>261.100006</td>\n",
              "      <td>271.700012</td>\n",
              "      <td>263.100006</td>\n",
              "      <td>4866839.0</td>\n",
              "      <td>263.100006</td>\n",
              "    </tr>\n",
              "  </tbody>\n",
              "</table>\n",
              "<p>3050 rows × 6 columns</p>\n",
              "</div>"
            ],
            "text/plain": [
              "                  High         Low  ...      Volume   Adj Close\n",
              "Date                                ...                        \n",
              "2007-11-27  207.000000  154.000000  ...  27262366.0  167.638992\n",
              "2007-11-28  197.800003  174.929993  ...  21958915.0  154.703354\n",
              "2007-11-29  182.800003  168.460007  ...  25616715.0  155.052948\n",
              "2007-11-30  191.399994  178.000000  ...  23047035.0  162.394852\n",
              "2007-12-03  198.860001  184.399994  ...  14578850.0  171.309952\n",
              "...                ...         ...  ...         ...         ...\n",
              "2020-04-28  274.700012  270.000000  ...   1808291.0  272.950012\n",
              "2020-04-29  293.200012  272.700012  ...   4058322.0  287.649994\n",
              "2020-04-30  296.000000  285.100006  ...   4675412.0  290.100006\n",
              "2020-05-04  280.000000  262.000000  ...   6359013.0  266.350006\n",
              "2020-05-05  271.700012  261.100006  ...   4866839.0  263.100006\n",
              "\n",
              "[3050 rows x 6 columns]"
            ]
          },
          "metadata": {
            "tags": []
          },
          "execution_count": 143
        }
      ]
    },
    {
      "cell_type": "code",
      "metadata": {
        "id": "MHeu6gXCaqTE",
        "colab_type": "code",
        "outputId": "ca9f3e73-ac1c-4f36-dbc2-f2f5960e3840",
        "colab": {
          "base_uri": "https://localhost:8080/",
          "height": 36
        }
      },
      "source": [
        "#Get the number of rows and columns in data set\n",
        "df.shape"
      ],
      "execution_count": 144,
      "outputs": [
        {
          "output_type": "execute_result",
          "data": {
            "text/plain": [
              "(3050, 6)"
            ]
          },
          "metadata": {
            "tags": []
          },
          "execution_count": 144
        }
      ]
    },
    {
      "cell_type": "code",
      "metadata": {
        "id": "y330nWTTaz7B",
        "colab_type": "code",
        "outputId": "eece99ef-8161-48bf-f135-55d23c27d670",
        "colab": {
          "base_uri": "https://localhost:8080/",
          "height": 558
        }
      },
      "source": [
        "#Visualizing the closing price history\n",
        "plt.figure(figsize=(16,8))\n",
        "plt.title('Close Price History')\n",
        "plt.plot(df['Close'])\n",
        "plt.xlabel('Date', fontsize=18)\n",
        "plt.ylabel('Close Price (Rs.)', fontsize=18)\n",
        "plt.show()"
      ],
      "execution_count": 145,
      "outputs": [
        {
          "output_type": "display_data",
          "data": {
            "image/png": "[encoded data removed]",
            "text/plain": [
              "<Figure size 1152x576 with 1 Axes>"
            ]
          },
          "metadata": {
            "tags": []
          }
        }
      ]
    },
    {
      "cell_type": "code",
      "metadata": {
        "id": "WQCT63ABcIzY",
        "colab_type": "code",
        "outputId": "af90af65-e10c-4cb6-fa03-b4ce85e64a5d",
        "colab": {
          "base_uri": "https://localhost:8080/",
          "height": 36
        }
      },
      "source": [
        "#Create a new dataframe with only the 'Close' column\n",
        "data = df.filter(['Close'])\n",
        "#convert the dataframe to a numpy array\n",
        "dataset = data.values\n",
        "#Get the number of rows to train the model on\n",
        "training_data_len = math.ceil(len(dataset) * .8)\n",
        "\n",
        "training_data_len"
      ],
      "execution_count": 146,
      "outputs": [
        {
          "output_type": "execute_result",
          "data": {
            "text/plain": [
              "2440"
            ]
          },
          "metadata": {
            "tags": []
          },
          "execution_count": 146
        }
      ]
    },
    {
      "cell_type": "code",
      "metadata": {
        "id": "AQvY_LENfi8c",
        "colab_type": "code",
        "outputId": "ebdba4d9-5dda-4c8a-8b73-3701f40a78d7",
        "colab": {
          "base_uri": "https://localhost:8080/",
          "height": 147
        }
      },
      "source": [
        "#Scale the data\n",
        "scaler = MinMaxScaler(feature_range=(0,1))\n",
        "scaled_data = scaler.fit_transform(dataset)\n",
        "\n",
        "scaled_data"
      ],
      "execution_count": 147,
      "outputs": [
        {
          "output_type": "execute_result",
          "data": {
            "text/plain": [
              "array([[0.35303153],\n",
              "       [0.31576695],\n",
              "       [0.31677408],\n",
              "       ...,\n",
              "       [0.60053884],\n",
              "       [0.54073926],\n",
              "       [0.53255616]])"
            ]
          },
          "metadata": {
            "tags": []
          },
          "execution_count": 147
        }
      ]
    },
    {
      "cell_type": "code",
      "metadata": {
        "id": "Lx5_mLNSghHX",
        "colab_type": "code",
        "outputId": "ac7c8d6c-135b-4d52-e8d3-32e3971bc565",
        "colab": {
          "base_uri": "https://localhost:8080/",
          "height": 741
        }
      },
      "source": [
        "#Create the training dataset\n",
        "#Create the scaled training dataset\n",
        "train_data = scaled_data[0:training_data_len, :]\n",
        "#Split the data into x_train and y_train dataset\n",
        "x_train = []\n",
        "y_train = []\n",
        "\n",
        "for i in range(days, len(train_data)):\n",
        "  x_train.append(train_data[i-days:i, 0])\n",
        "  y_train.append(train_data[i, 0])\n",
        "  if i <= days+1:\n",
        "    print(x_train)\n",
        "    print(y_train)\n",
        "    print()"
      ],
      "execution_count": 148,
      "outputs": [
        {
          "output_type": "stream",
          "text": [
            "[array([0.35303153, 0.31576695, 0.31677408, 0.33792427, 0.36360661,\n",
            "       0.39835332, 0.41597845, 0.41905027, 0.42403565, 0.4107161 ,\n",
            "       0.39684257, 0.39226006, 0.43972202, 0.42756067, 0.39596134,\n",
            "       0.41648202, 0.40736732, 0.40399334, 0.45263874, 0.47434282,\n",
            "       0.48025985, 0.49911876, 0.50903916, 0.52316446, 0.52850234,\n",
            "       0.51256421, 0.49471248, 0.48811561, 0.47681037, 0.46444759,\n",
            "       0.4348877 , 0.41691006, 0.39137879, 0.39863028, 0.38898681,\n",
            "       0.38420282, 0.3709588 , 0.28557759, 0.24050761, 0.30166682,\n",
            "       0.28008863, 0.30604794, 0.28343741, 0.29348372, 0.2882969 ,\n",
            "       0.29192265, 0.28572869, 0.30121362, 0.29023567, 0.27673985,\n",
            "       0.27107463, 0.264931  , 0.22824556, 0.21318863, 0.20797664,\n",
            "       0.22754055, 0.23708329, 0.25866151, 0.25478396, 0.23877026])]\n",
            "[0.24153994399418152]\n",
            "\n",
            "[array([0.35303153, 0.31576695, 0.31677408, 0.33792427, 0.36360661,\n",
            "       0.39835332, 0.41597845, 0.41905027, 0.42403565, 0.4107161 ,\n",
            "       0.39684257, 0.39226006, 0.43972202, 0.42756067, 0.39596134,\n",
            "       0.41648202, 0.40736732, 0.40399334, 0.45263874, 0.47434282,\n",
            "       0.48025985, 0.49911876, 0.50903916, 0.52316446, 0.52850234,\n",
            "       0.51256421, 0.49471248, 0.48811561, 0.47681037, 0.46444759,\n",
            "       0.4348877 , 0.41691006, 0.39137879, 0.39863028, 0.38898681,\n",
            "       0.38420282, 0.3709588 , 0.28557759, 0.24050761, 0.30166682,\n",
            "       0.28008863, 0.30604794, 0.28343741, 0.29348372, 0.2882969 ,\n",
            "       0.29192265, 0.28572869, 0.30121362, 0.29023567, 0.27673985,\n",
            "       0.27107463, 0.264931  , 0.22824556, 0.21318863, 0.20797664,\n",
            "       0.22754055, 0.23708329, 0.25866151, 0.25478396, 0.23877026]), array([0.31576695, 0.31677408, 0.33792427, 0.36360661, 0.39835332,\n",
            "       0.41597845, 0.41905027, 0.42403565, 0.4107161 , 0.39684257,\n",
            "       0.39226006, 0.43972202, 0.42756067, 0.39596134, 0.41648202,\n",
            "       0.40736732, 0.40399334, 0.45263874, 0.47434282, 0.48025985,\n",
            "       0.49911876, 0.50903916, 0.52316446, 0.52850234, 0.51256421,\n",
            "       0.49471248, 0.48811561, 0.47681037, 0.46444759, 0.4348877 ,\n",
            "       0.41691006, 0.39137879, 0.39863028, 0.38898681, 0.38420282,\n",
            "       0.3709588 , 0.28557759, 0.24050761, 0.30166682, 0.28008863,\n",
            "       0.30604794, 0.28343741, 0.29348372, 0.2882969 , 0.29192265,\n",
            "       0.28572869, 0.30121362, 0.29023567, 0.27673985, 0.27107463,\n",
            "       0.264931  , 0.22824556, 0.21318863, 0.20797664, 0.22754055,\n",
            "       0.23708329, 0.25866151, 0.25478396, 0.23877026, 0.24153994])]\n",
            "[0.24153994399418152, 0.23469131567877174]\n",
            "\n"
          ],
          "name": "stdout"
        }
      ]
    },
    {
      "cell_type": "code",
      "metadata": {
        "id": "9V32vCUZiBRg",
        "colab_type": "code",
        "colab": {}
      },
      "source": [
        "#Convert x_trtain and y_train dataset to numpy arrays\n",
        "x_train, y_train = np.array(x_train), np.array(y_train)"
      ],
      "execution_count": 0,
      "outputs": []
    },
    {
      "cell_type": "code",
      "metadata": {
        "id": "d3qLB9tpiwA-",
        "colab_type": "code",
        "outputId": "351fd346-d8bb-44b1-dd29-35aeb32bcb1c",
        "colab": {
          "base_uri": "https://localhost:8080/",
          "height": 36
        }
      },
      "source": [
        "#Reshape the data\n",
        "x_train = np.reshape(x_train, (x_train.shape[0], x_train.shape[1], 1))\n",
        "x_train.shape"
      ],
      "execution_count": 150,
      "outputs": [
        {
          "output_type": "execute_result",
          "data": {
            "text/plain": [
              "(2380, 60, 1)"
            ]
          },
          "metadata": {
            "tags": []
          },
          "execution_count": 150
        }
      ]
    },
    {
      "cell_type": "code",
      "metadata": {
        "id": "xSqHAsIMi0sD",
        "colab_type": "code",
        "colab": {}
      },
      "source": [
        "#Build the LSTM model\n",
        "model = Sequential()\n",
        "model.add(LSTM(50, return_sequences=True, input_shape=(x_train.shape[1], 1)))\n",
        "model.add(LSTM(50, return_sequences=False))\n",
        "model.add(Dense(25))\n",
        "model.add(Dense(1))\n"
      ],
      "execution_count": 0,
      "outputs": []
    },
    {
      "cell_type": "code",
      "metadata": {
        "id": "iurNOLXUjw4n",
        "colab_type": "code",
        "colab": {}
      },
      "source": [
        "#compile the model\n",
        "model.compile(optimizer='adam', loss='mean_squared_error')"
      ],
      "execution_count": 0,
      "outputs": []
    },
    {
      "cell_type": "code",
      "metadata": {
        "id": "zlX9s6Sflos0",
        "colab_type": "code",
        "outputId": "bed360ec-e17f-4798-d8f4-44eb5b865874",
        "colab": {
          "base_uri": "https://localhost:8080/",
          "height": 73
        }
      },
      "source": [
        "#train the model\n",
        "model.fit(x_train, y_train, batch_size=1, epochs=1)"
      ],
      "execution_count": 153,
      "outputs": [
        {
          "output_type": "stream",
          "text": [
            "Epoch 1/1\n",
            "2380/2380 [==============================] - 90s 38ms/step - loss: 0.0012\n"
          ],
          "name": "stdout"
        },
        {
          "output_type": "execute_result",
          "data": {
            "text/plain": [
              "<keras.callbacks.callbacks.History at 0x7f6c4faf7940>"
            ]
          },
          "metadata": {
            "tags": []
          },
          "execution_count": 153
        }
      ]
    },
    {
      "cell_type": "code",
      "metadata": {
        "id": "kN1IQbErl5mO",
        "colab_type": "code",
        "colab": {}
      },
      "source": [
        "#Create the testing dataset\n",
        "#Create a new array containing scaled values from index 1576 to 2003\n",
        "test_data = scaled_data[training_data_len - days:, :]\n",
        "#create the datasets x_test and y_test\n",
        "x_test = []\n",
        "y_test = dataset[training_data_len:, :]\n",
        "\n",
        "for i in range(days, len(test_data)):\n",
        "  x_test.append(test_data[i-days:i, 0])"
      ],
      "execution_count": 0,
      "outputs": []
    },
    {
      "cell_type": "code",
      "metadata": {
        "id": "25qBIpysnMu8",
        "colab_type": "code",
        "colab": {}
      },
      "source": [
        "#Convert the data to numpy array\n",
        "x_test = np.array(x_test)"
      ],
      "execution_count": 0,
      "outputs": []
    },
    {
      "cell_type": "code",
      "metadata": {
        "id": "NzB2zFYQnVA9",
        "colab_type": "code",
        "outputId": "b1c3b477-8680-4340-fa91-c54295981281",
        "colab": {
          "base_uri": "https://localhost:8080/",
          "height": 36
        }
      },
      "source": [
        "#reshape the data\n",
        "x_test = np.reshape(x_test, (x_test.shape[0], x_test.shape[1], 1))\n",
        "x_test.shape"
      ],
      "execution_count": 156,
      "outputs": [
        {
          "output_type": "execute_result",
          "data": {
            "text/plain": [
              "(610, 60, 1)"
            ]
          },
          "metadata": {
            "tags": []
          },
          "execution_count": 156
        }
      ]
    },
    {
      "cell_type": "code",
      "metadata": {
        "id": "hZbzc9VCnjQc",
        "colab_type": "code",
        "colab": {}
      },
      "source": [
        "#Get the model to predict values\n",
        "predictions = model.predict(x_test)\n",
        "predictions = scaler.inverse_transform(predictions)"
      ],
      "execution_count": 0,
      "outputs": []
    },
    {
      "cell_type": "code",
      "metadata": {
        "id": "etleQdfboBvu",
        "colab_type": "code",
        "outputId": "305bcdb6-1ed3-4404-9ebe-ea357d7b0346",
        "colab": {
          "base_uri": "https://localhost:8080/",
          "height": 36
        }
      },
      "source": [
        "#Get the root mean squares error (RMSE)\n",
        "rmse = np.sqrt(np.mean(((predictions-y_test)**2)))\n",
        "rmse"
      ],
      "execution_count": 158,
      "outputs": [
        {
          "output_type": "execute_result",
          "data": {
            "text/plain": [
              "30.3028886948939"
            ]
          },
          "metadata": {
            "tags": []
          },
          "execution_count": 158
        }
      ]
    },
    {
      "cell_type": "code",
      "metadata": {
        "id": "87b6B54poY-H",
        "colab_type": "code",
        "outputId": "20f51f9d-8437-4947-f036-2d780f5bf888",
        "colab": {
          "base_uri": "https://localhost:8080/",
          "height": 688
        }
      },
      "source": [
        "#plot the data\n",
        "train = data[:training_data_len]\n",
        "valid = data[training_data_len:]\n",
        "valid['Predictions'] = predictions\n",
        "#Visualizing the data\n",
        "plt.figure(figsize=(16,8))\n",
        "plt.title('Model')\n",
        "plt.xlabel('Date', fontsize=18)\n",
        "plt.ylabel('Close Price (Rs.)', fontsize=18)\n",
        "#plt.plot(train['Open'])\n",
        "plt.plot(train['Close'])\n",
        "plt.plot(valid[['Close', 'Predictions']])\n",
        "plt.legend(['Train', 'Val', 'Predictions'], loc='lower right')"
      ],
      "execution_count": 159,
      "outputs": [
        {
          "output_type": "stream",
          "text": [
            "/usr/local/lib/python3.6/dist-packages/ipykernel_launcher.py:3: SettingWithCopyWarning: \n",
            "A value is trying to be set on a copy of a slice from a DataFrame.\n",
            "Try using .loc[row_indexer,col_indexer] = value instead\n",
            "\n",
            "See the caveats in the documentation: https://pandas.pydata.org/pandas-docs/stable/user_guide/indexing.html#returning-a-view-versus-a-copy\n",
            "  This is separate from the ipykernel package so we can avoid doing imports until\n"
          ],
          "name": "stderr"
        },
        {
          "output_type": "execute_result",
          "data": {
            "text/plain": [
              "<matplotlib.legend.Legend at 0x7f6c4f65c7b8>"
            ]
          },
          "metadata": {
            "tags": []
          },
          "execution_count": 159
        },
        {
          "output_type": "display_data",
          "data": {
            "image/png": "[encoded data removed]",
            "text/plain": [
              "<Figure size 1152x576 with 1 Axes>"
            ]
          },
          "metadata": {
            "tags": []
          }
        }
      ]
    },
    {
      "cell_type": "code",
      "metadata": {
        "id": "f1rhcNv_o8H4",
        "colab_type": "code",
        "outputId": "9b290142-df3e-4154-fe74-04adcff9a5d3",
        "colab": {
          "base_uri": "https://localhost:8080/",
          "height": 455
        }
      },
      "source": [
        "#Show the valid and predicted prices\n",
        "valid"
      ],
      "execution_count": 160,
      "outputs": [
        {
          "output_type": "execute_result",
          "data": {
            "text/html": [
              "<div>\n",
              "<style scoped>\n",
              "    .dataframe tbody tr th:only-of-type {\n",
              "        vertical-align: middle;\n",
              "    }\n",
              "\n",
              "    .dataframe tbody tr th {\n",
              "        vertical-align: top;\n",
              "    }\n",
              "\n",
              "    .dataframe thead th {\n",
              "        text-align: right;\n",
              "    }\n",
              "</style>\n",
              "<table border=\"1\" class=\"dataframe\">\n",
              "  <thead>\n",
              "    <tr style=\"text-align: right;\">\n",
              "      <th></th>\n",
              "      <th>Close</th>\n",
              "      <th>Predictions</th>\n",
              "    </tr>\n",
              "    <tr>\n",
              "      <th>Date</th>\n",
              "      <th></th>\n",
              "      <th></th>\n",
              "    </tr>\n",
              "  </thead>\n",
              "  <tbody>\n",
              "    <tr>\n",
              "      <th>2017-11-06</th>\n",
              "      <td>437.549988</td>\n",
              "      <td>462.004456</td>\n",
              "    </tr>\n",
              "    <tr>\n",
              "      <th>2017-11-07</th>\n",
              "      <td>431.549988</td>\n",
              "      <td>463.107727</td>\n",
              "    </tr>\n",
              "    <tr>\n",
              "      <th>2017-11-08</th>\n",
              "      <td>429.700012</td>\n",
              "      <td>461.798370</td>\n",
              "    </tr>\n",
              "    <tr>\n",
              "      <th>2017-11-09</th>\n",
              "      <td>433.399994</td>\n",
              "      <td>459.804413</td>\n",
              "    </tr>\n",
              "    <tr>\n",
              "      <th>2017-11-10</th>\n",
              "      <td>432.049988</td>\n",
              "      <td>459.703430</td>\n",
              "    </tr>\n",
              "    <tr>\n",
              "      <th>...</th>\n",
              "      <td>...</td>\n",
              "      <td>...</td>\n",
              "    </tr>\n",
              "    <tr>\n",
              "      <th>2020-04-28</th>\n",
              "      <td>272.950012</td>\n",
              "      <td>289.514984</td>\n",
              "    </tr>\n",
              "    <tr>\n",
              "      <th>2020-04-29</th>\n",
              "      <td>287.649994</td>\n",
              "      <td>289.656219</td>\n",
              "    </tr>\n",
              "    <tr>\n",
              "      <th>2020-04-30</th>\n",
              "      <td>290.100006</td>\n",
              "      <td>294.310852</td>\n",
              "    </tr>\n",
              "    <tr>\n",
              "      <th>2020-05-04</th>\n",
              "      <td>266.350006</td>\n",
              "      <td>299.635620</td>\n",
              "    </tr>\n",
              "    <tr>\n",
              "      <th>2020-05-05</th>\n",
              "      <td>263.100006</td>\n",
              "      <td>296.471954</td>\n",
              "    </tr>\n",
              "  </tbody>\n",
              "</table>\n",
              "<p>610 rows × 2 columns</p>\n",
              "</div>"
            ],
            "text/plain": [
              "                 Close  Predictions\n",
              "Date                               \n",
              "2017-11-06  437.549988   462.004456\n",
              "2017-11-07  431.549988   463.107727\n",
              "2017-11-08  429.700012   461.798370\n",
              "2017-11-09  433.399994   459.804413\n",
              "2017-11-10  432.049988   459.703430\n",
              "...                ...          ...\n",
              "2020-04-28  272.950012   289.514984\n",
              "2020-04-29  287.649994   289.656219\n",
              "2020-04-30  290.100006   294.310852\n",
              "2020-05-04  266.350006   299.635620\n",
              "2020-05-05  263.100006   296.471954\n",
              "\n",
              "[610 rows x 2 columns]"
            ]
          },
          "metadata": {
            "tags": []
          },
          "execution_count": 160
        }
      ]
    },
    {
      "cell_type": "code",
      "metadata": {
        "id": "U8M1boNpq7F2",
        "colab_type": "code",
        "outputId": "b2be0816-0a95-4c8e-b3fa-c345dff8f4be",
        "colab": {
          "base_uri": "https://localhost:8080/",
          "height": 36
        }
      },
      "source": [
        "#Get the quote\n",
        "vipind_quote = web.DataReader(stock, data_source, start, end)\n",
        "#Create a new dataframe\n",
        "new_df = vipind_quote.filter(['Close'])\n",
        "#Get teh last 60 day closing price \n",
        "last_60_days = new_df[-days:].values\n",
        "#Scale the data to be values between 0 and 1\n",
        "last_60_days_scaled = scaler.transform(last_60_days)\n",
        "#Create an empty list\n",
        "X_test = []\n",
        "#Append teh past 60 days\n",
        "X_test.append(last_60_days_scaled)\n",
        "#Convert the X_test data set to a numpy array\n",
        "X_test = np.array(X_test)\n",
        "#Reshape the data\n",
        "X_test = np.reshape(X_test, (X_test.shape[0], X_test.shape[1], 1))\n",
        "#Get the predicted scaled price\n",
        "pred_price = model.predict(X_test)\n",
        "#undo the scaling \n",
        "pred_price = scaler.inverse_transform(pred_price)\n",
        "print(pred_price)"
      ],
      "execution_count": 161,
      "outputs": [
        {
          "output_type": "stream",
          "text": [
            "[[290.971]]\n"
          ],
          "name": "stdout"
        }
      ]
    },
    {
      "cell_type": "code",
      "metadata": {
        "id": "_j-K5QKb4V5R",
        "colab_type": "code",
        "outputId": "adfda083-046e-4ac9-9f7a-486f7f6e2782",
        "colab": {
          "base_uri": "https://localhost:8080/",
          "height": 258
        }
      },
      "source": [
        "#Get the quote\n",
        "apple_quote2 = web.DataReader(stock, data_source, start, end)\n",
        "print(apple_quote2['Close'])"
      ],
      "execution_count": 162,
      "outputs": [
        {
          "output_type": "stream",
          "text": [
            "Date\n",
            "2007-11-27    191.800003\n",
            "2007-11-28    177.000000\n",
            "2007-11-29    177.399994\n",
            "2007-11-30    185.800003\n",
            "2007-12-03    196.000000\n",
            "                 ...    \n",
            "2020-04-28    272.950012\n",
            "2020-04-29    287.649994\n",
            "2020-04-30    290.100006\n",
            "2020-05-04    266.350006\n",
            "2020-05-05    263.100006\n",
            "Name: Close, Length: 3050, dtype: float64\n"
          ],
          "name": "stdout"
        }
      ]
    },
    {
      "cell_type": "code",
      "metadata": {
        "id": "veE6Yf_iR80Z",
        "colab_type": "code",
        "colab": {}
      },
      "source": [
        ""
      ],
      "execution_count": 0,
      "outputs": []
    }
  ]
}