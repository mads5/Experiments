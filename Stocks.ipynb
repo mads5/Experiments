{
  "nbformat": 4,
  "nbformat_minor": 0,
  "metadata": {
    "colab": {
      "name": "Stocks.ipynb",
      "provenance": [],
      "collapsed_sections": [],
      "include_colab_link": true
    },
    "kernelspec": {
      "name": "python3",
      "display_name": "Python 3"
    }
  },
  "cells": [
    {
      "cell_type": "markdown",
      "metadata": {
        "id": "view-in-github",
        "colab_type": "text"
      },
      "source": [
        "<a href=\"https://colab.research.google.com/github/mads5/Experiments/blob/master/Stocks.ipynb\" target=\"_parent\"><img src=\"https://colab.research.google.com/assets/colab-badge.svg\" alt=\"Open In Colab\"/></a>"
      ]
    },
    {
      "cell_type": "code",
      "metadata": {
        "id": "BvMS84dsPU_d",
        "colab_type": "code",
        "outputId": "adfeec34-080c-4529-e36f-c1ff70b8498d",
        "colab": {
          "base_uri": "https://localhost:8080/",
          "height": 93
        }
      },
      "source": [
        "import pandas_datareader as web\n",
        "import math\n",
        "import numpy as np\n",
        "import pandas as pd\n",
        "from sklearn.preprocessing import MinMaxScaler\n",
        "from keras.models import Sequential\n",
        "from keras.layers import Dense, LSTM\n",
        "import matplotlib.pyplot as plt\n",
        "plt.style.use('fivethirtyeight')\n",
        "days = 60\n",
        "stock = 'ONGC.NS'"
      ],
      "execution_count": 0,
      "outputs": [
        {
          "output_type": "stream",
          "text": [
            "/usr/local/lib/python3.6/dist-packages/pandas_datareader/compat/__init__.py:7: FutureWarning: pandas.util.testing is deprecated. Use the functions in the public API at pandas.testing instead.\n",
            "  from pandas.util.testing import assert_frame_equal\n",
            "Using TensorFlow backend.\n"
          ],
          "name": "stderr"
        }
      ]
    },
    {
      "cell_type": "code",
      "metadata": {
        "id": "P3SC2kIYTj3B",
        "colab_type": "code",
        "outputId": "6f1c717a-2a1a-4a3b-94ab-f087b7f95090",
        "colab": {
          "base_uri": "https://localhost:8080/",
          "height": 455
        }
      },
      "source": [
        "#Get the stock data\n",
        "df = web.DataReader(stock, data_source='yahoo', start='2010-01-01', end='2020-05-05')\n",
        "#Show the data\n",
        "df"
      ],
      "execution_count": 0,
      "outputs": [
        {
          "output_type": "execute_result",
          "data": {
            "text/html": [
              "<div>\n",
              "<style scoped>\n",
              "    .dataframe tbody tr th:only-of-type {\n",
              "        vertical-align: middle;\n",
              "    }\n",
              "\n",
              "    .dataframe tbody tr th {\n",
              "        vertical-align: top;\n",
              "    }\n",
              "\n",
              "    .dataframe thead th {\n",
              "        text-align: right;\n",
              "    }\n",
              "</style>\n",
              "<table border=\"1\" class=\"dataframe\">\n",
              "  <thead>\n",
              "    <tr style=\"text-align: right;\">\n",
              "      <th></th>\n",
              "      <th>High</th>\n",
              "      <th>Low</th>\n",
              "      <th>Open</th>\n",
              "      <th>Close</th>\n",
              "      <th>Volume</th>\n",
              "      <th>Adj Close</th>\n",
              "    </tr>\n",
              "    <tr>\n",
              "      <th>Date</th>\n",
              "      <th></th>\n",
              "      <th></th>\n",
              "      <th></th>\n",
              "      <th></th>\n",
              "      <th></th>\n",
              "      <th></th>\n",
              "    </tr>\n",
              "  </thead>\n",
              "  <tbody>\n",
              "    <tr>\n",
              "      <th>2010-01-04</th>\n",
              "      <td>198.832993</td>\n",
              "      <td>196.000000</td>\n",
              "      <td>196.167007</td>\n",
              "      <td>197.908005</td>\n",
              "      <td>1905762.0</td>\n",
              "      <td>117.540398</td>\n",
              "    </tr>\n",
              "    <tr>\n",
              "      <th>2010-01-05</th>\n",
              "      <td>202.500000</td>\n",
              "      <td>198.192001</td>\n",
              "      <td>198.682999</td>\n",
              "      <td>201.375000</td>\n",
              "      <td>4657392.0</td>\n",
              "      <td>119.599464</td>\n",
              "    </tr>\n",
              "    <tr>\n",
              "      <th>2010-01-06</th>\n",
              "      <td>204.500000</td>\n",
              "      <td>201.199997</td>\n",
              "      <td>202.016998</td>\n",
              "      <td>203.917007</td>\n",
              "      <td>4203690.0</td>\n",
              "      <td>121.109222</td>\n",
              "    </tr>\n",
              "    <tr>\n",
              "      <th>2010-01-07</th>\n",
              "      <td>205.817001</td>\n",
              "      <td>201.667007</td>\n",
              "      <td>203.500000</td>\n",
              "      <td>204.132996</td>\n",
              "      <td>6394536.0</td>\n",
              "      <td>121.237511</td>\n",
              "    </tr>\n",
              "    <tr>\n",
              "      <th>2010-01-08</th>\n",
              "      <td>206.432999</td>\n",
              "      <td>201.667007</td>\n",
              "      <td>204.167007</td>\n",
              "      <td>202.617004</td>\n",
              "      <td>5678652.0</td>\n",
              "      <td>120.337105</td>\n",
              "    </tr>\n",
              "    <tr>\n",
              "      <th>...</th>\n",
              "      <td>...</td>\n",
              "      <td>...</td>\n",
              "      <td>...</td>\n",
              "      <td>...</td>\n",
              "      <td>...</td>\n",
              "      <td>...</td>\n",
              "    </tr>\n",
              "    <tr>\n",
              "      <th>2020-04-28</th>\n",
              "      <td>69.699997</td>\n",
              "      <td>67.099998</td>\n",
              "      <td>67.800003</td>\n",
              "      <td>69.199997</td>\n",
              "      <td>20422626.0</td>\n",
              "      <td>69.199997</td>\n",
              "    </tr>\n",
              "    <tr>\n",
              "      <th>2020-04-29</th>\n",
              "      <td>70.949997</td>\n",
              "      <td>68.699997</td>\n",
              "      <td>69.400002</td>\n",
              "      <td>70.500000</td>\n",
              "      <td>18023637.0</td>\n",
              "      <td>70.500000</td>\n",
              "    </tr>\n",
              "    <tr>\n",
              "      <th>2020-04-30</th>\n",
              "      <td>81.050003</td>\n",
              "      <td>71.500000</td>\n",
              "      <td>72.599998</td>\n",
              "      <td>79.900002</td>\n",
              "      <td>54290691.0</td>\n",
              "      <td>79.900002</td>\n",
              "    </tr>\n",
              "    <tr>\n",
              "      <th>2020-05-04</th>\n",
              "      <td>77.849998</td>\n",
              "      <td>74.050003</td>\n",
              "      <td>76.000000</td>\n",
              "      <td>76.550003</td>\n",
              "      <td>28640967.0</td>\n",
              "      <td>76.550003</td>\n",
              "    </tr>\n",
              "    <tr>\n",
              "      <th>2020-05-05</th>\n",
              "      <td>81.900002</td>\n",
              "      <td>78.150002</td>\n",
              "      <td>78.900002</td>\n",
              "      <td>78.449997</td>\n",
              "      <td>61848497.0</td>\n",
              "      <td>78.449997</td>\n",
              "    </tr>\n",
              "  </tbody>\n",
              "</table>\n",
              "<p>2544 rows × 6 columns</p>\n",
              "</div>"
            ],
            "text/plain": [
              "                  High         Low  ...      Volume   Adj Close\n",
              "Date                                ...                        \n",
              "2010-01-04  198.832993  196.000000  ...   1905762.0  117.540398\n",
              "2010-01-05  202.500000  198.192001  ...   4657392.0  119.599464\n",
              "2010-01-06  204.500000  201.199997  ...   4203690.0  121.109222\n",
              "2010-01-07  205.817001  201.667007  ...   6394536.0  121.237511\n",
              "2010-01-08  206.432999  201.667007  ...   5678652.0  120.337105\n",
              "...                ...         ...  ...         ...         ...\n",
              "2020-04-28   69.699997   67.099998  ...  20422626.0   69.199997\n",
              "2020-04-29   70.949997   68.699997  ...  18023637.0   70.500000\n",
              "2020-04-30   81.050003   71.500000  ...  54290691.0   79.900002\n",
              "2020-05-04   77.849998   74.050003  ...  28640967.0   76.550003\n",
              "2020-05-05   81.900002   78.150002  ...  61848497.0   78.449997\n",
              "\n",
              "[2544 rows x 6 columns]"
            ]
          },
          "metadata": {
            "tags": []
          },
          "execution_count": 23
        }
      ]
    },
    {
      "cell_type": "code",
      "metadata": {
        "id": "MHeu6gXCaqTE",
        "colab_type": "code",
        "outputId": "434602a6-987b-41dc-8fe2-87892573b6bb",
        "colab": {
          "base_uri": "https://localhost:8080/",
          "height": 36
        }
      },
      "source": [
        "#Get the number of rows and columns in data set\n",
        "df.shape"
      ],
      "execution_count": 0,
      "outputs": [
        {
          "output_type": "execute_result",
          "data": {
            "text/plain": [
              "(2544, 6)"
            ]
          },
          "metadata": {
            "tags": []
          },
          "execution_count": 24
        }
      ]
    },
    {
      "cell_type": "code",
      "metadata": {
        "id": "y330nWTTaz7B",
        "colab_type": "code",
        "outputId": "4b8634f3-6638-4e25-ab62-5431c8cb79de",
        "colab": {
          "base_uri": "https://localhost:8080/",
          "height": 518
        }
      },
      "source": [
        "#Visualizing the closing price history\n",
        "plt.figure(figsize=(16,8))\n",
        "plt.title('Close Price History')\n",
        "plt.plot(df['Close'])\n",
        "plt.xlabel('Date', fontsize=18)\n",
        "plt.ylabel('Close Price (Rs.)', fontsize=18)\n",
        "plt.show()"
      ],
      "execution_count": 0,
      "outputs": [
        {
          "output_type": "display_data",
          "data": {
            "image/png": "[encoded data removed]",
            "text/plain": [
              "<Figure size 1152x576 with 1 Axes>"
            ]
          },
          "metadata": {
            "tags": [],
            "needs_background": "light"
          }
        }
      ]
    },
    {
      "cell_type": "code",
      "metadata": {
        "id": "WQCT63ABcIzY",
        "colab_type": "code",
        "outputId": "7d2db2fe-3d12-4b54-caaa-2cb4ddc0acca",
        "colab": {
          "base_uri": "https://localhost:8080/",
          "height": 36
        }
      },
      "source": [
        "#Create a new dataframe with only the 'Close' column\n",
        "data = df.filter(['Close'])\n",
        "#convert the dataframe to a numpy array\n",
        "dataset = data.values\n",
        "#Get the number of rows to train the model on\n",
        "training_data_len = math.ceil(len(dataset) * .8)\n",
        "\n",
        "training_data_len"
      ],
      "execution_count": 0,
      "outputs": [
        {
          "output_type": "execute_result",
          "data": {
            "text/plain": [
              "2036"
            ]
          },
          "metadata": {
            "tags": []
          },
          "execution_count": 26
        }
      ]
    },
    {
      "cell_type": "code",
      "metadata": {
        "id": "AQvY_LENfi8c",
        "colab_type": "code",
        "outputId": "692121b5-25a4-40db-b0c3-4fc1a2d42858",
        "colab": {
          "base_uri": "https://localhost:8080/",
          "height": 147
        }
      },
      "source": [
        "#Scale the data\n",
        "scaler = MinMaxScaler(feature_range=(0,1))\n",
        "scaled_data = scaler.fit_transform(dataset)\n",
        "\n",
        "scaled_data"
      ],
      "execution_count": 0,
      "outputs": [
        {
          "output_type": "execute_result",
          "data": {
            "text/plain": [
              "array([[0.55067821],\n",
              "       [0.56452222],\n",
              "       [0.57467266],\n",
              "       ...,\n",
              "       [0.07946237],\n",
              "       [0.06608555],\n",
              "       [0.07367238]])"
            ]
          },
          "metadata": {
            "tags": []
          },
          "execution_count": 27
        }
      ]
    },
    {
      "cell_type": "code",
      "metadata": {
        "id": "Lx5_mLNSghHX",
        "colab_type": "code",
        "outputId": "69f8c70b-6300-4f61-eaec-901566dc8513",
        "colab": {
          "base_uri": "https://localhost:8080/",
          "height": 741
        }
      },
      "source": [
        "#Create the training dataset\n",
        "#Create the scaled training dataset\n",
        "train_data = scaled_data[0:training_data_len, :]\n",
        "#Split the data into x_train and y_train dataset\n",
        "x_train = []\n",
        "y_train = []\n",
        "\n",
        "for i in range(days, len(train_data)):\n",
        "  x_train.append(train_data[i-days:i, 0])\n",
        "  y_train.append(train_data[i, 0])\n",
        "  if i <= days+1:\n",
        "    print(x_train)\n",
        "    print(y_train)\n",
        "    print()"
      ],
      "execution_count": 0,
      "outputs": [
        {
          "output_type": "stream",
          "text": [
            "[array([0.55067821, 0.56452222, 0.57467266, 0.57553512, 0.56948164,\n",
            "       0.57001271, 0.55301017, 0.55590512, 0.58016315, 0.56555241,\n",
            "       0.56738524, 0.55690339, 0.53317648, 0.51906896, 0.50213028,\n",
            "       0.50649071, 0.49840474, 0.49404431, 0.49008316, 0.49351319,\n",
            "       0.49587311, 0.51497601, 0.51883335, 0.48426121, 0.50455808,\n",
            "       0.49663979, 0.48383001, 0.49264671, 0.48469247, 0.49447551,\n",
            "       0.49227936, 0.49481099, 0.49900368, 0.49747032, 0.49347724,\n",
            "       0.49331358, 0.49903567, 0.5041947 , 0.49850454, 0.49304604,\n",
            "       0.48918469, 0.48882136, 0.49281445, 0.48995136, 0.48486021,\n",
            "       0.48166573, 0.48229665, 0.47238182, 0.4732483 , 0.47484557,\n",
            "       0.46199978, 0.46376473, 0.46529406, 0.47201441, 0.46362898,\n",
            "       0.47910218, 0.48785502, 0.49068209, 0.49161651, 0.48213294])]\n",
            "[0.4904505002261098]\n",
            "\n",
            "[array([0.55067821, 0.56452222, 0.57467266, 0.57553512, 0.56948164,\n",
            "       0.57001271, 0.55301017, 0.55590512, 0.58016315, 0.56555241,\n",
            "       0.56738524, 0.55690339, 0.53317648, 0.51906896, 0.50213028,\n",
            "       0.50649071, 0.49840474, 0.49404431, 0.49008316, 0.49351319,\n",
            "       0.49587311, 0.51497601, 0.51883335, 0.48426121, 0.50455808,\n",
            "       0.49663979, 0.48383001, 0.49264671, 0.48469247, 0.49447551,\n",
            "       0.49227936, 0.49481099, 0.49900368, 0.49747032, 0.49347724,\n",
            "       0.49331358, 0.49903567, 0.5041947 , 0.49850454, 0.49304604,\n",
            "       0.48918469, 0.48882136, 0.49281445, 0.48995136, 0.48486021,\n",
            "       0.48166573, 0.48229665, 0.47238182, 0.4732483 , 0.47484557,\n",
            "       0.46199978, 0.46376473, 0.46529406, 0.47201441, 0.46362898,\n",
            "       0.47910218, 0.48785502, 0.49068209, 0.49161651, 0.48213294]), array([0.56452222, 0.57467266, 0.57553512, 0.56948164, 0.57001271,\n",
            "       0.55301017, 0.55590512, 0.58016315, 0.56555241, 0.56738524,\n",
            "       0.55690339, 0.53317648, 0.51906896, 0.50213028, 0.50649071,\n",
            "       0.49840474, 0.49404431, 0.49008316, 0.49351319, 0.49587311,\n",
            "       0.51497601, 0.51883335, 0.48426121, 0.50455808, 0.49663979,\n",
            "       0.48383001, 0.49264671, 0.48469247, 0.49447551, 0.49227936,\n",
            "       0.49481099, 0.49900368, 0.49747032, 0.49347724, 0.49331358,\n",
            "       0.49903567, 0.5041947 , 0.49850454, 0.49304604, 0.48918469,\n",
            "       0.48882136, 0.49281445, 0.48995136, 0.48486021, 0.48166573,\n",
            "       0.48229665, 0.47238182, 0.4732483 , 0.47484557, 0.46199978,\n",
            "       0.46376473, 0.46529406, 0.47201441, 0.46362898, 0.47910218,\n",
            "       0.48785502, 0.49068209, 0.49161651, 0.48213294, 0.4904505 ])]\n",
            "[0.4904505002261098, 0.4823964571130399]\n",
            "\n"
          ],
          "name": "stdout"
        }
      ]
    },
    {
      "cell_type": "code",
      "metadata": {
        "id": "9V32vCUZiBRg",
        "colab_type": "code",
        "colab": {}
      },
      "source": [
        "#Convert x_trtain and y_train dataset to numpy arrays\n",
        "x_train, y_train = np.array(x_train), np.array(y_train)"
      ],
      "execution_count": 0,
      "outputs": []
    },
    {
      "cell_type": "code",
      "metadata": {
        "id": "d3qLB9tpiwA-",
        "colab_type": "code",
        "outputId": "b659359a-046b-433e-92b6-3cb787fa3337",
        "colab": {
          "base_uri": "https://localhost:8080/",
          "height": 36
        }
      },
      "source": [
        "#Reshape the data\n",
        "x_train = np.reshape(x_train, (x_train.shape[0], x_train.shape[1], 1))\n",
        "x_train.shape"
      ],
      "execution_count": 0,
      "outputs": [
        {
          "output_type": "execute_result",
          "data": {
            "text/plain": [
              "(1976, 60, 1)"
            ]
          },
          "metadata": {
            "tags": []
          },
          "execution_count": 30
        }
      ]
    },
    {
      "cell_type": "code",
      "metadata": {
        "id": "xSqHAsIMi0sD",
        "colab_type": "code",
        "colab": {}
      },
      "source": [
        "#Build the LSTM model\n",
        "model = Sequential()\n",
        "model.add(LSTM(50, return_sequences=True, input_shape=(x_train.shape[1], 1)))\n",
        "model.add(LSTM(50, return_sequences=False))\n",
        "model.add(Dense(25))\n",
        "model.add(Dense(1))\n"
      ],
      "execution_count": 0,
      "outputs": []
    },
    {
      "cell_type": "code",
      "metadata": {
        "id": "iurNOLXUjw4n",
        "colab_type": "code",
        "colab": {}
      },
      "source": [
        "#compile the model\n",
        "model.compile(optimizer='adam', loss='mean_squared_error')"
      ],
      "execution_count": 0,
      "outputs": []
    },
    {
      "cell_type": "code",
      "metadata": {
        "id": "zlX9s6Sflos0",
        "colab_type": "code",
        "outputId": "0697d145-409e-4cf7-cb40-8aafad9ffa5b",
        "colab": {
          "base_uri": "https://localhost:8080/",
          "height": 73
        }
      },
      "source": [
        "#train the model\n",
        "model.fit(x_train, y_train, batch_size=1, epochs=1)"
      ],
      "execution_count": 0,
      "outputs": [
        {
          "output_type": "stream",
          "text": [
            "Epoch 1/1\n",
            "1976/1976 [==============================] - 71s 36ms/step - loss: 0.0020\n"
          ],
          "name": "stdout"
        },
        {
          "output_type": "execute_result",
          "data": {
            "text/plain": [
              "<keras.callbacks.callbacks.History at 0x7f6c52eb1c18>"
            ]
          },
          "metadata": {
            "tags": []
          },
          "execution_count": 33
        }
      ]
    },
    {
      "cell_type": "code",
      "metadata": {
        "id": "kN1IQbErl5mO",
        "colab_type": "code",
        "colab": {}
      },
      "source": [
        "#Create the testing dataset\n",
        "#Create a new array containing scaled values from index 1576 to 2003\n",
        "test_data = scaled_data[training_data_len - days:, :]\n",
        "#create the datasets x_test and y_test\n",
        "x_test = []\n",
        "y_test = dataset[training_data_len:, :]\n",
        "\n",
        "for i in range(days, len(test_data)):\n",
        "  x_test.append(test_data[i-days:i, 0])"
      ],
      "execution_count": 0,
      "outputs": []
    },
    {
      "cell_type": "code",
      "metadata": {
        "id": "25qBIpysnMu8",
        "colab_type": "code",
        "colab": {}
      },
      "source": [
        "#Convert the data to numpy array\n",
        "x_test = np.array(x_test)"
      ],
      "execution_count": 0,
      "outputs": []
    },
    {
      "cell_type": "code",
      "metadata": {
        "id": "NzB2zFYQnVA9",
        "colab_type": "code",
        "outputId": "f717c7c0-375a-40df-a606-4624400e095f",
        "colab": {
          "base_uri": "https://localhost:8080/",
          "height": 36
        }
      },
      "source": [
        "#reshape the data\n",
        "x_test = np.reshape(x_test, (x_test.shape[0], x_test.shape[1], 1))\n",
        "x_test.shape"
      ],
      "execution_count": 0,
      "outputs": [
        {
          "output_type": "execute_result",
          "data": {
            "text/plain": [
              "(508, 60, 1)"
            ]
          },
          "metadata": {
            "tags": []
          },
          "execution_count": 36
        }
      ]
    },
    {
      "cell_type": "code",
      "metadata": {
        "id": "hZbzc9VCnjQc",
        "colab_type": "code",
        "colab": {}
      },
      "source": [
        "#Get the model to predict values\n",
        "predictions = model.predict(x_test)\n",
        "predictions = scaler.inverse_transform(predictions)"
      ],
      "execution_count": 0,
      "outputs": []
    },
    {
      "cell_type": "code",
      "metadata": {
        "id": "etleQdfboBvu",
        "colab_type": "code",
        "outputId": "88e57d26-6e2e-4f96-984e-af07fc2da258",
        "colab": {
          "base_uri": "https://localhost:8080/",
          "height": 36
        }
      },
      "source": [
        "#Get the root mean squares error (RMSE)\n",
        "rmse = np.sqrt(np.mean(((predictions-y_test)**2)))\n",
        "rmse"
      ],
      "execution_count": 0,
      "outputs": [
        {
          "output_type": "execute_result",
          "data": {
            "text/plain": [
              "11.709079861373661"
            ]
          },
          "metadata": {
            "tags": []
          },
          "execution_count": 38
        }
      ]
    },
    {
      "cell_type": "code",
      "metadata": {
        "id": "87b6B54poY-H",
        "colab_type": "code",
        "outputId": "aa8e9fa1-c24e-4694-fe68-59d0b2d20d41",
        "colab": {
          "base_uri": "https://localhost:8080/",
          "height": 648
        }
      },
      "source": [
        "#plot the data\n",
        "train = data[:training_data_len]\n",
        "valid = data[training_data_len:]\n",
        "valid['Predictions'] = predictions\n",
        "#Visualizing the data\n",
        "plt.figure(figsize=(16,8))\n",
        "plt.title('Model')\n",
        "plt.xlabel('Date', fontsize=18)\n",
        "plt.ylabel('Close Price (Rs.)', fontsize=18)\n",
        "plt.plot(train['Close'])\n",
        "plt.plot(valid[['Close', 'Predictions']])\n",
        "plt.legend(['Train', 'Val', 'Predictions'], loc='lower right')"
      ],
      "execution_count": 0,
      "outputs": [
        {
          "output_type": "stream",
          "text": [
            "/usr/local/lib/python3.6/dist-packages/ipykernel_launcher.py:3: SettingWithCopyWarning: \n",
            "A value is trying to be set on a copy of a slice from a DataFrame.\n",
            "Try using .loc[row_indexer,col_indexer] = value instead\n",
            "\n",
            "See the caveats in the documentation: https://pandas.pydata.org/pandas-docs/stable/user_guide/indexing.html#returning-a-view-versus-a-copy\n",
            "  This is separate from the ipykernel package so we can avoid doing imports until\n"
          ],
          "name": "stderr"
        },
        {
          "output_type": "execute_result",
          "data": {
            "text/plain": [
              "<matplotlib.legend.Legend at 0x7f6c5197dd68>"
            ]
          },
          "metadata": {
            "tags": []
          },
          "execution_count": 39
        },
        {
          "output_type": "display_data",
          "data": {
            "image/png": "[encoded data removed]",
            "text/plain": [
              "<Figure size 1152x576 with 1 Axes>"
            ]
          },
          "metadata": {
            "tags": [],
            "needs_background": "light"
          }
        }
      ]
    },
    {
      "cell_type": "code",
      "metadata": {
        "id": "f1rhcNv_o8H4",
        "colab_type": "code",
        "outputId": "d183c9af-f211-4089-f49b-013aace75907",
        "colab": {
          "base_uri": "https://localhost:8080/",
          "height": 455
        }
      },
      "source": [
        "#Show the valid and predicted prices\n",
        "valid"
      ],
      "execution_count": 0,
      "outputs": [
        {
          "output_type": "execute_result",
          "data": {
            "text/html": [
              "<div>\n",
              "<style scoped>\n",
              "    .dataframe tbody tr th:only-of-type {\n",
              "        vertical-align: middle;\n",
              "    }\n",
              "\n",
              "    .dataframe tbody tr th {\n",
              "        vertical-align: top;\n",
              "    }\n",
              "\n",
              "    .dataframe thead th {\n",
              "        text-align: right;\n",
              "    }\n",
              "</style>\n",
              "<table border=\"1\" class=\"dataframe\">\n",
              "  <thead>\n",
              "    <tr style=\"text-align: right;\">\n",
              "      <th></th>\n",
              "      <th>Close</th>\n",
              "      <th>Predictions</th>\n",
              "    </tr>\n",
              "    <tr>\n",
              "      <th>Date</th>\n",
              "      <th></th>\n",
              "      <th></th>\n",
              "    </tr>\n",
              "  </thead>\n",
              "  <tbody>\n",
              "    <tr>\n",
              "      <th>2018-04-05</th>\n",
              "      <td>177.449997</td>\n",
              "      <td>187.686432</td>\n",
              "    </tr>\n",
              "    <tr>\n",
              "      <th>2018-04-06</th>\n",
              "      <td>176.949997</td>\n",
              "      <td>187.464172</td>\n",
              "    </tr>\n",
              "    <tr>\n",
              "      <th>2018-04-09</th>\n",
              "      <td>178.399994</td>\n",
              "      <td>187.244247</td>\n",
              "    </tr>\n",
              "    <tr>\n",
              "      <th>2018-04-10</th>\n",
              "      <td>180.199997</td>\n",
              "      <td>187.261490</td>\n",
              "    </tr>\n",
              "    <tr>\n",
              "      <th>2018-04-11</th>\n",
              "      <td>182.149994</td>\n",
              "      <td>187.629974</td>\n",
              "    </tr>\n",
              "    <tr>\n",
              "      <th>...</th>\n",
              "      <td>...</td>\n",
              "      <td>...</td>\n",
              "    </tr>\n",
              "    <tr>\n",
              "      <th>2020-04-28</th>\n",
              "      <td>69.199997</td>\n",
              "      <td>82.210640</td>\n",
              "    </tr>\n",
              "    <tr>\n",
              "      <th>2020-04-29</th>\n",
              "      <td>70.500000</td>\n",
              "      <td>81.760719</td>\n",
              "    </tr>\n",
              "    <tr>\n",
              "      <th>2020-04-30</th>\n",
              "      <td>79.900002</td>\n",
              "      <td>81.665222</td>\n",
              "    </tr>\n",
              "    <tr>\n",
              "      <th>2020-05-04</th>\n",
              "      <td>76.550003</td>\n",
              "      <td>82.752533</td>\n",
              "    </tr>\n",
              "    <tr>\n",
              "      <th>2020-05-05</th>\n",
              "      <td>78.449997</td>\n",
              "      <td>83.990295</td>\n",
              "    </tr>\n",
              "  </tbody>\n",
              "</table>\n",
              "<p>508 rows × 2 columns</p>\n",
              "</div>"
            ],
            "text/plain": [
              "                 Close  Predictions\n",
              "Date                               \n",
              "2018-04-05  177.449997   187.686432\n",
              "2018-04-06  176.949997   187.464172\n",
              "2018-04-09  178.399994   187.244247\n",
              "2018-04-10  180.199997   187.261490\n",
              "2018-04-11  182.149994   187.629974\n",
              "...                ...          ...\n",
              "2020-04-28   69.199997    82.210640\n",
              "2020-04-29   70.500000    81.760719\n",
              "2020-04-30   79.900002    81.665222\n",
              "2020-05-04   76.550003    82.752533\n",
              "2020-05-05   78.449997    83.990295\n",
              "\n",
              "[508 rows x 2 columns]"
            ]
          },
          "metadata": {
            "tags": []
          },
          "execution_count": 40
        }
      ]
    },
    {
      "cell_type": "code",
      "metadata": {
        "id": "U8M1boNpq7F2",
        "colab_type": "code",
        "outputId": "28ec9162-1033-4c0f-9884-bea514114c96",
        "colab": {
          "base_uri": "https://localhost:8080/",
          "height": 36
        }
      },
      "source": [
        "#Get the quote\n",
        "vipind_quote = web.DataReader(stock, data_source='yahoo', start='2012-01-01', end='2020-05-05')\n",
        "#Create a new dataframe\n",
        "new_df = vipind_quote.filter(['Close'])\n",
        "#Get teh last 60 day closing price \n",
        "last_60_days = new_df[-days:].values\n",
        "#Scale the data to be values between 0 and 1\n",
        "last_60_days_scaled = scaler.transform(last_60_days)\n",
        "#Create an empty list\n",
        "X_test = []\n",
        "#Append teh past 60 days\n",
        "X_test.append(last_60_days_scaled)\n",
        "#Convert the X_test data set to a numpy array\n",
        "X_test = np.array(X_test)\n",
        "#Reshape the data\n",
        "X_test = np.reshape(X_test, (X_test.shape[0], X_test.shape[1], 1))\n",
        "#Get the predicted scaled price\n",
        "pred_price = model.predict(X_test)\n",
        "#undo the scaling \n",
        "pred_price = scaler.inverse_transform(pred_price)\n",
        "print(pred_price)"
      ],
      "execution_count": 0,
      "outputs": [
        {
          "output_type": "stream",
          "text": [
            "[[85.35332]]\n"
          ],
          "name": "stdout"
        }
      ]
    },
    {
      "cell_type": "code",
      "metadata": {
        "id": "_j-K5QKb4V5R",
        "colab_type": "code",
        "outputId": "a355b04a-7efe-4831-bf3b-1a0ba4ce4b7c",
        "colab": {
          "base_uri": "https://localhost:8080/",
          "height": 91
        }
      },
      "source": [
        "#Get the quote\n",
        "apple_quote2 = web.DataReader(stock, data_source='yahoo', start='2020-05-01', end='2020-05-05')\n",
        "print(apple_quote2['Close'])"
      ],
      "execution_count": 0,
      "outputs": [
        {
          "output_type": "stream",
          "text": [
            "Date\n",
            "2020-05-04    76.550003\n",
            "2020-05-05    78.449997\n",
            "Name: Close, dtype: float64\n"
          ],
          "name": "stdout"
        }
      ]
    },
    {
      "cell_type": "code",
      "metadata": {
        "id": "ZKrYHT8b8f8W",
        "colab_type": "code",
        "colab": {}
      },
      "source": [
        ""
      ],
      "execution_count": 0,
      "outputs": []
    }
  ]
}